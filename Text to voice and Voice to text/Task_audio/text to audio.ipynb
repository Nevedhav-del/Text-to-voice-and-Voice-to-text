{
 "cells": [
  {
   "cell_type": "code",
   "execution_count": 2,
   "id": "ef84c5cc",
   "metadata": {},
   "outputs": [
    {
     "name": "stdout",
     "output_type": "stream",
     "text": [
      "Collecting gTTS\n",
      "  Downloading gTTS-2.3.2-py3-none-any.whl (28 kB)\n",
      "Requirement already satisfied: click<8.2,>=7.1 in c:\\users\\nivi\\anaconda3\\lib\\site-packages (from gTTS) (8.0.4)\n",
      "Requirement already satisfied: requests<3,>=2.27 in c:\\users\\nivi\\anaconda3\\lib\\site-packages (from gTTS) (2.28.1)\n",
      "Requirement already satisfied: colorama in c:\\users\\nivi\\anaconda3\\lib\\site-packages (from click<8.2,>=7.1->gTTS) (0.4.6)\n",
      "Requirement already satisfied: certifi>=2017.4.17 in c:\\users\\nivi\\anaconda3\\lib\\site-packages (from requests<3,>=2.27->gTTS) (2023.7.22)\n",
      "Requirement already satisfied: idna<4,>=2.5 in c:\\users\\nivi\\anaconda3\\lib\\site-packages (from requests<3,>=2.27->gTTS) (3.4)\n",
      "Requirement already satisfied: urllib3<1.27,>=1.21.1 in c:\\users\\nivi\\anaconda3\\lib\\site-packages (from requests<3,>=2.27->gTTS) (1.26.14)\n",
      "Requirement already satisfied: charset-normalizer<3,>=2 in c:\\users\\nivi\\anaconda3\\lib\\site-packages (from requests<3,>=2.27->gTTS) (2.0.4)\n",
      "Installing collected packages: gTTS\n",
      "Successfully installed gTTS-2.3.2\n"
     ]
    }
   ],
   "source": [
    "!pip install gTTS"
   ]
  },
  {
   "cell_type": "code",
   "execution_count": 3,
   "id": "216658c3",
   "metadata": {},
   "outputs": [
    {
     "data": {
      "text/html": [
       "\n",
       "                <audio  controls=\"controls\" >\n",
       "                    <source src=\"data:audio/mpeg;base64,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\" type=\"audio/mpeg\" />\n",
       "                    Your browser does not support the audio element.\n",
       "                </audio>\n",
       "              "
      ],
      "text/plain": [
       "<IPython.lib.display.Audio object>"
      ]
     },
     "metadata": {},
     "output_type": "display_data"
    }
   ],
   "source": [
    "from gtts import gTTS\n",
    "from IPython.display import Audio, display\n",
    "\n",
    "# Your transcribed text\n",
    "transcription = \"SUBSCRIBE TO MY CHANNEL.\"\n",
    "\n",
    "# Create a gTTS object\n",
    "tts = gTTS(transcription, lang=\"en\")\n",
    "\n",
    "# Save the generated audio to a file (e.g., audio_transcription.mp3)\n",
    "audio_file = \"audio_transcription.mp3\"\n",
    "tts.save(audio_file)\n",
    "\n",
    "# Display the audio widget to play the generated audio\n",
    "display(Audio(audio_file))"
   ]
  }
 ],
 "metadata": {
  "kernelspec": {
   "display_name": "Python 3 (ipykernel)",
   "language": "python",
   "name": "python3"
  },
  "language_info": {
   "codemirror_mode": {
    "name": "ipython",
    "version": 3
   },
   "file_extension": ".py",
   "mimetype": "text/x-python",
   "name": "python",
   "nbconvert_exporter": "python",
   "pygments_lexer": "ipython3",
   "version": "3.10.9"
  }
 },
 "nbformat": 4,
 "nbformat_minor": 5
}
